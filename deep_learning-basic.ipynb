{
 "cells": [
  {
   "cell_type": "markdown",
   "metadata": {},
   "source": [
    "## Deep Learning Model Development for Multiclass Prediction"
   ]
  },
  {
   "cell_type": "code",
   "execution_count": 1,
   "metadata": {},
   "outputs": [
    {
     "name": "stdout",
     "output_type": "stream",
     "text": [
      "Requirement already satisfied: nltk in /opt/miniconda3/lib/python3.8/site-packages (3.5)\n",
      "Requirement already satisfied: joblib in /opt/miniconda3/lib/python3.8/site-packages (from nltk) (1.0.1)\n",
      "Requirement already satisfied: click in /opt/miniconda3/lib/python3.8/site-packages (from nltk) (7.1.2)\n",
      "Requirement already satisfied: tqdm in /opt/miniconda3/lib/python3.8/site-packages (from nltk) (4.62.3)\n",
      "Requirement already satisfied: regex in /opt/miniconda3/lib/python3.8/site-packages (from nltk) (2020.7.14)\n"
     ]
    },
    {
     "name": "stderr",
     "output_type": "stream",
     "text": [
      "[nltk_data] Downloading package stopwords to /Users/ladan/nltk_data...\n",
      "[nltk_data]   Package stopwords is already up-to-date!\n",
      "[nltk_data] Downloading package punkt to /Users/ladan/nltk_data...\n",
      "[nltk_data]   Package punkt is already up-to-date!\n",
      "[nltk_data] Downloading package wordnet to /Users/ladan/nltk_data...\n",
      "[nltk_data]   Package wordnet is already up-to-date!\n"
     ]
    }
   ],
   "source": [
    "import matplotlib.pyplot as plt\n",
    "import numpy as np\n",
    "import pandas as pd\n",
    "\n",
    "import os\n",
    "import tensorflow as tf\n",
    "\n",
    "!pip install nltk\n",
    "\n",
    "import nltk\n",
    "\n",
    "nltk.download('stopwords')\n",
    "nltk.download('punkt')\n",
    "\n",
    "from nltk.corpus import stopwords\n",
    "\n",
    "nltk.download('wordnet')\n",
    "from nltk.stem import WordNetLemmatizer\n",
    "lemmatizer = WordNetLemmatizer()\n"
   ]
  },
  {
   "cell_type": "code",
   "execution_count": 2,
   "metadata": {},
   "outputs": [
    {
     "name": "stdout",
     "output_type": "stream",
     "text": [
      "ClaimId              int64\n",
      "LineItemID           int64\n",
      "PetPolicyID          int64\n",
      "ItemDescription     object\n",
      "DiagnosisOne        object\n",
      "DiagnosisTwo        object\n",
      "LineItemPrice      float64\n",
      "ClaimDateClosed     object\n",
      "Condition           object\n",
      "dtype: object\n"
     ]
    },
    {
     "data": {
      "text/html": [
       "<div>\n",
       "<style scoped>\n",
       "    .dataframe tbody tr th:only-of-type {\n",
       "        vertical-align: middle;\n",
       "    }\n",
       "\n",
       "    .dataframe tbody tr th {\n",
       "        vertical-align: top;\n",
       "    }\n",
       "\n",
       "    .dataframe thead th {\n",
       "        text-align: right;\n",
       "    }\n",
       "</style>\n",
       "<table border=\"1\" class=\"dataframe\">\n",
       "  <thead>\n",
       "    <tr style=\"text-align: right;\">\n",
       "      <th></th>\n",
       "      <th>ClaimId</th>\n",
       "      <th>LineItemID</th>\n",
       "      <th>PetPolicyID</th>\n",
       "      <th>ItemDescription</th>\n",
       "      <th>DiagnosisOne</th>\n",
       "      <th>DiagnosisTwo</th>\n",
       "      <th>LineItemPrice</th>\n",
       "      <th>ClaimDateClosed</th>\n",
       "      <th>Condition</th>\n",
       "    </tr>\n",
       "  </thead>\n",
       "  <tbody>\n",
       "    <tr>\n",
       "      <th>0</th>\n",
       "      <td>16980751</td>\n",
       "      <td>2073120</td>\n",
       "      <td>0</td>\n",
       "      <td>Freyja:  Boarding (Canine 51-75 Lbs)</td>\n",
       "      <td>Anal Gland Surgery</td>\n",
       "      <td>NaN</td>\n",
       "      <td>25.00</td>\n",
       "      <td>2019-10-02 15:33:00.0000000</td>\n",
       "      <td>NO COND</td>\n",
       "    </tr>\n",
       "    <tr>\n",
       "      <th>1</th>\n",
       "      <td>17856529</td>\n",
       "      <td>3193005</td>\n",
       "      <td>1</td>\n",
       "      <td>Axel:  Biohazard Fee</td>\n",
       "      <td>Atopy</td>\n",
       "      <td>NaN</td>\n",
       "      <td>3.49</td>\n",
       "      <td>2020-06-29 14:28:00.0000000</td>\n",
       "      <td>ALLERGY (ALLERGIC)</td>\n",
       "    </tr>\n",
       "    <tr>\n",
       "      <th>2</th>\n",
       "      <td>17075791</td>\n",
       "      <td>392218</td>\n",
       "      <td>3</td>\n",
       "      <td>Kallie:  Sedation (DexDomitor)</td>\n",
       "      <td>ruptured CCL (right)</td>\n",
       "      <td>NaN</td>\n",
       "      <td>142.22</td>\n",
       "      <td>2019-11-01 19:29:00.0000000</td>\n",
       "      <td>CRUCIATE RUPTURE (ACL, CCL)</td>\n",
       "    </tr>\n",
       "    <tr>\n",
       "      <th>3</th>\n",
       "      <td>16890631</td>\n",
       "      <td>977795</td>\n",
       "      <td>4</td>\n",
       "      <td>Kaiden:  Scaling (Canine)</td>\n",
       "      <td>Dental</td>\n",
       "      <td>NaN</td>\n",
       "      <td>84.25</td>\n",
       "      <td>2019-09-05 13:57:00.0000000</td>\n",
       "      <td>DENTAL DISEASE</td>\n",
       "    </tr>\n",
       "    <tr>\n",
       "      <th>4</th>\n",
       "      <td>17152945</td>\n",
       "      <td>1907072</td>\n",
       "      <td>5</td>\n",
       "      <td>Sadie Mae:  Pain Management Level 2</td>\n",
       "      <td>TPLO</td>\n",
       "      <td>NaN</td>\n",
       "      <td>67.60</td>\n",
       "      <td>2019-11-26 07:43:00.0000000</td>\n",
       "      <td>CRUCIATE RUPTURE (ACL, CCL)</td>\n",
       "    </tr>\n",
       "  </tbody>\n",
       "</table>\n",
       "</div>"
      ],
      "text/plain": [
       "    ClaimId  LineItemID  PetPolicyID                       ItemDescription  \\\n",
       "0  16980751     2073120            0  Freyja:  Boarding (Canine 51-75 Lbs)   \n",
       "1  17856529     3193005            1                  Axel:  Biohazard Fee   \n",
       "2  17075791      392218            3        Kallie:  Sedation (DexDomitor)   \n",
       "3  16890631      977795            4             Kaiden:  Scaling (Canine)   \n",
       "4  17152945     1907072            5   Sadie Mae:  Pain Management Level 2   \n",
       "\n",
       "           DiagnosisOne DiagnosisTwo  LineItemPrice  \\\n",
       "0    Anal Gland Surgery          NaN          25.00   \n",
       "1                 Atopy          NaN           3.49   \n",
       "2  ruptured CCL (right)          NaN         142.22   \n",
       "3                Dental          NaN          84.25   \n",
       "4                  TPLO          NaN          67.60   \n",
       "\n",
       "               ClaimDateClosed                    Condition  \n",
       "0  2019-10-02 15:33:00.0000000                      NO COND  \n",
       "1  2020-06-29 14:28:00.0000000           ALLERGY (ALLERGIC)  \n",
       "2  2019-11-01 19:29:00.0000000  CRUCIATE RUPTURE (ACL, CCL)  \n",
       "3  2019-09-05 13:57:00.0000000               DENTAL DISEASE  \n",
       "4  2019-11-26 07:43:00.0000000  CRUCIATE RUPTURE (ACL, CCL)  "
      ]
     },
     "execution_count": 2,
     "metadata": {},
     "output_type": "execute_result"
    }
   ],
   "source": [
    "#Load the data file into a Pandas Dataframe\n",
    "claim_data = pd.read_csv(\"PartII_Data/ClaimData.csv\")\n",
    "\n",
    "#Explore the data loaded\n",
    "print(claim_data.dtypes)\n",
    "claim_data.head()"
   ]
  },
  {
   "cell_type": "code",
   "execution_count": 3,
   "metadata": {},
   "outputs": [
    {
     "data": {
      "text/plain": [
       "NO COND                                                                39715\n",
       "ALLERGY (ALLERGIC)                                                      8175\n",
       "MASS(ES)                                                                6487\n",
       "DIARRHEA                                                                6011\n",
       "VOMITING                                                                5396\n",
       "OTITIS EXTERNA                                                          4734\n",
       "LIMPING                                                                 4220\n",
       "DENTAL DISEASE                                                          3067\n",
       "GASTROENTERITIS                                                         2695\n",
       "CRUCIATE RUPTURE (ACL, CCL)                                             2551\n",
       "FRACTURE                                                                2433\n",
       "URINARY TRACT INFECTION                                                 2076\n",
       "KIDNEY DISEASE                                                          1634\n",
       "LIVER DISEASE                                                           1620\n",
       "TOXIN INGESTION                                                         1550\n",
       "FOREIGN MATERIAL INGESTION(INGESTION OF FOREIGN MATERIAL)               1509\n",
       "SEIZURE                                                                 1421\n",
       "COUGH                                                                   1291\n",
       "FOREIGN BODY                                                            1257\n",
       "HIT BY CAR(VICTIM, PEDESTRIAN IN VEHICULAR AND/OR TRAFFIC ACCIDENT)      213\n",
       "LACRIMAL DUCT OBSTRUCTION, COMPLETE                                        2\n",
       "Name: Condition, dtype: int64"
      ]
     },
     "execution_count": 3,
     "metadata": {},
     "output_type": "execute_result"
    }
   ],
   "source": [
    "claim_data['Condition'].value_counts()"
   ]
  },
  {
   "cell_type": "code",
   "execution_count": 4,
   "metadata": {},
   "outputs": [
    {
     "name": "stdout",
     "output_type": "stream",
     "text": [
      "The number of classes in the target column is: 21\n"
     ]
    }
   ],
   "source": [
    "print('The number of classes in the target column is:', claim_data['Condition'].value_counts().count())"
   ]
  },
  {
   "cell_type": "code",
   "execution_count": 5,
   "metadata": {},
   "outputs": [],
   "source": [
    "claim_data['combined_text']=claim_data['ItemDescription']+' '+claim_data['DiagnosisOne']"
   ]
  },
  {
   "cell_type": "code",
   "execution_count": 6,
   "metadata": {},
   "outputs": [],
   "source": [
    "#Separate feature and target data\n",
    "claim_classes_raw = claim_data[\"Condition\"]\n",
    "claim_messages = claim_data[\"combined_text\"]"
   ]
  },
  {
   "cell_type": "code",
   "execution_count": 7,
   "metadata": {},
   "outputs": [
    {
     "data": {
      "text/plain": [
       "9"
      ]
     },
     "execution_count": 7,
     "metadata": {},
     "output_type": "execute_result"
    }
   ],
   "source": [
    "claim_data[\"combined_text\"].isna().sum()"
   ]
  },
  {
   "cell_type": "code",
   "execution_count": 8,
   "metadata": {},
   "outputs": [],
   "source": [
    "claim_data['combined_text'] = claim_data['combined_text'].fillna('No Data')"
   ]
  },
  {
   "cell_type": "markdown",
   "metadata": {},
   "source": [
    "### Creating text representation"
   ]
  },
  {
   "cell_type": "code",
   "execution_count": 9,
   "metadata": {},
   "outputs": [
    {
     "name": "stdout",
     "output_type": "stream",
     "text": [
      "TF-IDF Matrix Shape :  (98057, 42435)\n",
      "One-hot Encoding Shape :  (98057, 21)\n"
     ]
    }
   ],
   "source": [
    "import nltk\n",
    "import tensorflow as tf\n",
    "from sklearn.model_selection import train_test_split\n",
    "\n",
    "#Custom tokenizer to remove stopwords and use lemmatization\n",
    "def customtokenize(str):\n",
    "    #Split string as tokens\n",
    "    tokens=nltk.word_tokenize(str)\n",
    "    #Filter for stopwords\n",
    "    nostop = list(filter(lambda token: token not in stopwords.words('english'), tokens))\n",
    "    #Perform lemmatization\n",
    "    lemmatized=[lemmatizer.lemmatize(word) for word in nostop ]\n",
    "    return lemmatized\n",
    "\n",
    "from sklearn.feature_extraction.text import TfidfVectorizer\n",
    "\n",
    "#Build a TF-IDF Vectorizer model\n",
    "vectorizer = TfidfVectorizer(tokenizer=customtokenize)\n",
    "\n",
    "#Transform feature input to TF-IDF\n",
    "tfidf=vectorizer.fit_transform(claim_messages)\n",
    "#Convert TF-IDF to numpy array\n",
    "tfidf_array = tfidf.toarray()\n",
    "\n",
    "#Build a label encoder for target variable to convert strings to numeric values.\n",
    "from sklearn import preprocessing\n",
    "label_encoder = preprocessing.LabelEncoder()\n",
    "claim_classes = label_encoder.fit_transform(\n",
    "                                claim_classes_raw)\n",
    "\n",
    "#Convert target to one-hot encoding vector\n",
    "claim_classes = tf.keras.utils.to_categorical(claim_classes,21)\n",
    "\n",
    "print(\"TF-IDF Matrix Shape : \", tfidf.shape)\n",
    "print(\"One-hot Encoding Shape : \", claim_classes.shape)\n",
    "\n",
    "X_train,X_test,Y_train,Y_test = train_test_split( tfidf_array, claim_classes, test_size=0.10)"
   ]
  },
  {
   "cell_type": "markdown",
   "metadata": {},
   "source": [
    "### Building and evaluating the model"
   ]
  },
  {
   "cell_type": "code",
   "execution_count": 10,
   "metadata": {},
   "outputs": [
    {
     "name": "stdout",
     "output_type": "stream",
     "text": [
      "Model: \"sequential\"\n",
      "_________________________________________________________________\n",
      "Layer (type)                 Output Shape              Param #   \n",
      "=================================================================\n",
      "Hidden-Layer-1 (Dense)       (None, 32)                1357952   \n",
      "_________________________________________________________________\n",
      "Hidden-Layer-2 (Dense)       (None, 32)                1056      \n",
      "_________________________________________________________________\n",
      "Output-Layer (Dense)         (None, 21)                693       \n",
      "=================================================================\n",
      "Total params: 1,359,701\n",
      "Trainable params: 1,359,701\n",
      "Non-trainable params: 0\n",
      "_________________________________________________________________\n"
     ]
    }
   ],
   "source": [
    "from tensorflow import keras\n",
    "from tensorflow.keras import optimizers\n",
    "from tensorflow.keras.regularizers import l2\n",
    "\n",
    "#Setup Hyper Parameters for building the model\n",
    "NB_CLASSES=21\n",
    "N_HIDDEN=32\n",
    "\n",
    "model = tf.keras.models.Sequential()\n",
    "\n",
    "model.add(keras.layers.Dense(N_HIDDEN,\n",
    "                             input_shape=(X_train.shape[1],),\n",
    "                              name='Hidden-Layer-1',\n",
    "                              activation='relu'))\n",
    "\n",
    "model.add(keras.layers.Dense(N_HIDDEN,\n",
    "                              name='Hidden-Layer-2',\n",
    "                              activation='relu'))\n",
    "\n",
    "model.add(keras.layers.Dense(NB_CLASSES,\n",
    "                             name='Output-Layer',\n",
    "                             activation='softmax'))\n",
    "\n",
    "model.compile(loss='categorical_crossentropy',\n",
    "              metrics=['accuracy'])\n",
    "\n",
    "model.summary()"
   ]
  },
  {
   "cell_type": "code",
   "execution_count": 11,
   "metadata": {},
   "outputs": [
    {
     "name": "stdout",
     "output_type": "stream",
     "text": [
      "\n",
      "Training Progress:\n",
      "------------------------------------\n",
      "Epoch 1/10\n",
      "276/276 [==============================] - 30s 103ms/step - loss: 2.3429 - accuracy: 0.4201 - val_loss: 1.2669 - val_accuracy: 0.6548\n",
      "Epoch 2/10\n",
      "276/276 [==============================] - 17s 63ms/step - loss: 1.0636 - accuracy: 0.7193 - val_loss: 0.7517 - val_accuracy: 0.8060\n",
      "Epoch 3/10\n",
      "276/276 [==============================] - 17s 60ms/step - loss: 0.6236 - accuracy: 0.8411 - val_loss: 0.6159 - val_accuracy: 0.8291\n",
      "Epoch 4/10\n",
      "276/276 [==============================] - 17s 62ms/step - loss: 0.4908 - accuracy: 0.8655 - val_loss: 0.5767 - val_accuracy: 0.8358\n",
      "Epoch 5/10\n",
      "276/276 [==============================] - 18s 65ms/step - loss: 0.4286 - accuracy: 0.8789 - val_loss: 0.5623 - val_accuracy: 0.8409\n",
      "Epoch 6/10\n",
      "276/276 [==============================] - 16s 60ms/step - loss: 0.3824 - accuracy: 0.8911 - val_loss: 0.5583 - val_accuracy: 0.8420\n",
      "Epoch 7/10\n",
      "276/276 [==============================] - 18s 65ms/step - loss: 0.3556 - accuracy: 0.8991 - val_loss: 0.5550 - val_accuracy: 0.8440\n",
      "Epoch 8/10\n",
      "276/276 [==============================] - 17s 61ms/step - loss: 0.3253 - accuracy: 0.9050 - val_loss: 0.5606 - val_accuracy: 0.8416\n",
      "Epoch 9/10\n",
      "276/276 [==============================] - 19s 69ms/step - loss: 0.2980 - accuracy: 0.9150 - val_loss: 0.5614 - val_accuracy: 0.8427\n",
      "Epoch 10/10\n",
      "276/276 [==============================] - 17s 60ms/step - loss: 0.2774 - accuracy: 0.9212 - val_loss: 0.5666 - val_accuracy: 0.8412\n",
      "\n",
      "Accuracy during Training :\n",
      "------------------------------------\n"
     ]
    },
    {
     "data": {
      "image/png": "[encoded data removed]",
      "text/plain": [
       "<Figure size 576x360 with 1 Axes>"
      ]
     },
     "metadata": {
      "needs_background": "light"
     },
     "output_type": "display_data"
    },
    {
     "name": "stdout",
     "output_type": "stream",
     "text": [
      "\n",
      "Evaluation against Test Dataset :\n",
      "------------------------------------\n",
      "307/307 [==============================] - 2s 5ms/step - loss: 0.5534 - accuracy: 0.8447\n"
     ]
    },
    {
     "data": {
      "text/plain": [
       "[0.5533573031425476, 0.8446869254112244]"
      ]
     },
     "execution_count": 11,
     "metadata": {},
     "output_type": "execute_result"
    }
   ],
   "source": [
    "#Make it verbose so we can see the progress\n",
    "VERBOSE=1\n",
    "\n",
    "#Setup Hyper Parameters for training\n",
    "BATCH_SIZE=256\n",
    "EPOCHS=10\n",
    "VALIDATION_SPLIT=0.2\n",
    "\n",
    "print(\"\\nTraining Progress:\\n------------------------------------\")\n",
    "\n",
    "history=model.fit(X_train,\n",
    "          Y_train,\n",
    "          batch_size=BATCH_SIZE,\n",
    "          epochs=EPOCHS,\n",
    "          verbose=VERBOSE,\n",
    "          validation_split=VALIDATION_SPLIT)\n",
    "\n",
    "print(\"\\nAccuracy during Training :\\n------------------------------------\")\n",
    "import matplotlib.pyplot as plt\n",
    "\n",
    "pd.DataFrame(history.history)[\"accuracy\"].plot(figsize=(8, 5))\n",
    "plt.title(\"Accuracy improvements with Epoch\")\n",
    "plt.show()\n",
    "\n",
    "print(\"\\nEvaluation against Test Dataset :\\n------------------------------------\")\n",
    "model.evaluate(X_test,Y_test)"
   ]
  },
  {
   "cell_type": "markdown",
   "metadata": {},
   "source": [
    "### Predicting for text"
   ]
  },
  {
   "cell_type": "code",
   "execution_count": 12,
   "metadata": {},
   "outputs": [],
   "source": [
    "holdout_data = pd.read_csv('PartII_Data/Holdout.csv')"
   ]
  },
  {
   "cell_type": "code",
   "execution_count": 13,
   "metadata": {},
   "outputs": [],
   "source": [
    "holdout_data['combined_text']=holdout_data['ItemDescription']+' '+holdout_data['DiagnosisOne']"
   ]
  },
  {
   "cell_type": "code",
   "execution_count": 14,
   "metadata": {},
   "outputs": [],
   "source": [
    "holdout_data['combined_text'] = holdout_data['combined_text'].fillna('No Data')"
   ]
  },
  {
   "cell_type": "code",
   "execution_count": 15,
   "metadata": {},
   "outputs": [],
   "source": [
    "holdout_messages = holdout_data[\"combined_text\"]"
   ]
  },
  {
   "cell_type": "code",
   "execution_count": 16,
   "metadata": {},
   "outputs": [
    {
     "data": {
      "text/plain": [
       "0"
      ]
     },
     "execution_count": 16,
     "metadata": {},
     "output_type": "execute_result"
    }
   ],
   "source": [
    "holdout_messages.isna().sum()"
   ]
  },
  {
   "cell_type": "code",
   "execution_count": 17,
   "metadata": {},
   "outputs": [],
   "source": [
    "#Convert input into IF-IDF vector using the same vectorizer model\n",
    "predict_tfidf=vectorizer.transform(holdout_messages).toarray()"
   ]
  },
  {
   "cell_type": "code",
   "execution_count": 18,
   "metadata": {},
   "outputs": [
    {
     "name": "stdout",
     "output_type": "stream",
     "text": [
      "(5000, 42435)\n",
      "Prediction Output: [15 15  4 ... 15 15 20]\n",
      "Prediction Classes are  ['NO COND' 'NO COND' 'DIARRHEA' ... 'NO COND' 'NO COND' 'VOMITING']\n"
     ]
    }
   ],
   "source": [
    "print(predict_tfidf.shape)\n",
    "\n",
    "#Predict using model\n",
    "prediction=np.argmax( model.predict(predict_tfidf), axis=1 )\n",
    "print(\"Prediction Output:\" , prediction)\n",
    "\n",
    "#Print prediction classes\n",
    "print(\"Prediction Classes are \", label_encoder.inverse_transform(prediction))"
   ]
  }
 ],
 "metadata": {
  "kernelspec": {
   "display_name": "Python 3",
   "language": "python",
   "name": "python3"
  },
  "language_info": {
   "codemirror_mode": {
    "name": "ipython",
    "version": 3
   },
   "file_extension": ".py",
   "mimetype": "text/x-python",
   "name": "python",
   "nbconvert_exporter": "python",
   "pygments_lexer": "ipython3",
   "version": "3.8.3"
  }
 },
 "nbformat": 4,
 "nbformat_minor": 4
}
