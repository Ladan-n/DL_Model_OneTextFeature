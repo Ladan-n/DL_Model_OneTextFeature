{
 "cells": [
  {
   "cell_type": "markdown",
   "metadata": {},
   "source": [
    "## Importing necessary packages"
   ]
  },
  {
   "cell_type": "code",
   "execution_count": 24,
   "metadata": {},
   "outputs": [],
   "source": [
    "import matplotlib.pyplot as plt\n",
    "import numpy as np\n",
    "import pandas as pd\n",
    "from IPython.display import HTML\n",
    "\n",
    "# Classifiers\n",
    "from sklearn.dummy import DummyClassifier\n",
    "\n",
    "# Preprocessing and pipeline\n",
    "from sklearn.impute import SimpleImputer\n",
    "\n",
    "# train test split and cross validation\n",
    "from sklearn.model_selection import (\n",
    "    GridSearchCV,\n",
    "    RandomizedSearchCV,\n",
    "    cross_validate,\n",
    "    train_test_split,\n",
    ")\n",
    "\n",
    "from sklearn.feature_extraction.text import (\n",
    "    CountVectorizer,\n",
    "    TfidfTransformer,\n",
    "    TfidfVectorizer,\n",
    ")\n",
    "\n",
    "from sklearn.compose import ColumnTransformer, make_column_transformer\n",
    "from sklearn.pipeline import FeatureUnion, Pipeline, make_pipeline\n",
    "from sklearn.preprocessing import (\n",
    "    FunctionTransformer,\n",
    "    Normalizer,\n",
    "    OneHotEncoder,\n",
    "    OrdinalEncoder,\n",
    "    StandardScaler,\n",
    "    normalize,\n",
    "    scale,\n",
    ")\n",
    "from sklearn.ensemble import RandomForestClassifier\n",
    "from sklearn.svm import SVC\n",
    "from sklearn.tree import DecisionTreeClassifier\n",
    "from sklearn.linear_model import LogisticRegression\n",
    "from sklearn.naive_bayes import MultinomialNB, BernoulliNB, GaussianNB\n",
    "from xgboost import XGBClassifier\n",
    "from lightgbm.sklearn import LGBMClassifier\n",
    "from catboost import CatBoostClassifier"
   ]
  },
  {
   "cell_type": "code",
   "execution_count": 17,
   "metadata": {},
   "outputs": [],
   "source": [
    "# Shutting down the warnings\n",
    "import warnings\n",
    "warnings.simplefilter(action=\"ignore\", category=FutureWarning)"
   ]
  },
  {
   "cell_type": "markdown",
   "metadata": {},
   "source": [
    "## Reading data and EDA"
   ]
  },
  {
   "cell_type": "code",
   "execution_count": 4,
   "metadata": {},
   "outputs": [],
   "source": [
    "claim_df = pd.read_csv(\"PartII_Data/ClaimData.csv\")"
   ]
  },
  {
   "cell_type": "code",
   "execution_count": 6,
   "metadata": {},
   "outputs": [
    {
     "data": {
      "text/html": [
       "<div>\n",
       "<style scoped>\n",
       "    .dataframe tbody tr th:only-of-type {\n",
       "        vertical-align: middle;\n",
       "    }\n",
       "\n",
       "    .dataframe tbody tr th {\n",
       "        vertical-align: top;\n",
       "    }\n",
       "\n",
       "    .dataframe thead th {\n",
       "        text-align: right;\n",
       "    }\n",
       "</style>\n",
       "<table border=\"1\" class=\"dataframe\">\n",
       "  <thead>\n",
       "    <tr style=\"text-align: right;\">\n",
       "      <th></th>\n",
       "      <th>ClaimId</th>\n",
       "      <th>LineItemID</th>\n",
       "      <th>PetPolicyID</th>\n",
       "      <th>ItemDescription</th>\n",
       "      <th>DiagnosisOne</th>\n",
       "      <th>DiagnosisTwo</th>\n",
       "      <th>LineItemPrice</th>\n",
       "      <th>ClaimDateClosed</th>\n",
       "      <th>Condition</th>\n",
       "    </tr>\n",
       "  </thead>\n",
       "  <tbody>\n",
       "    <tr>\n",
       "      <th>0</th>\n",
       "      <td>16980751</td>\n",
       "      <td>2073120</td>\n",
       "      <td>0</td>\n",
       "      <td>Freyja:  Boarding (Canine 51-75 Lbs)</td>\n",
       "      <td>Anal Gland Surgery</td>\n",
       "      <td>NaN</td>\n",
       "      <td>25.00</td>\n",
       "      <td>2019-10-02 15:33:00.0000000</td>\n",
       "      <td>NO COND</td>\n",
       "    </tr>\n",
       "    <tr>\n",
       "      <th>1</th>\n",
       "      <td>17856529</td>\n",
       "      <td>3193005</td>\n",
       "      <td>1</td>\n",
       "      <td>Axel:  Biohazard Fee</td>\n",
       "      <td>Atopy</td>\n",
       "      <td>NaN</td>\n",
       "      <td>3.49</td>\n",
       "      <td>2020-06-29 14:28:00.0000000</td>\n",
       "      <td>ALLERGY (ALLERGIC)</td>\n",
       "    </tr>\n",
       "    <tr>\n",
       "      <th>2</th>\n",
       "      <td>17075791</td>\n",
       "      <td>392218</td>\n",
       "      <td>3</td>\n",
       "      <td>Kallie:  Sedation (DexDomitor)</td>\n",
       "      <td>ruptured CCL (right)</td>\n",
       "      <td>NaN</td>\n",
       "      <td>142.22</td>\n",
       "      <td>2019-11-01 19:29:00.0000000</td>\n",
       "      <td>CRUCIATE RUPTURE (ACL, CCL)</td>\n",
       "    </tr>\n",
       "    <tr>\n",
       "      <th>3</th>\n",
       "      <td>16890631</td>\n",
       "      <td>977795</td>\n",
       "      <td>4</td>\n",
       "      <td>Kaiden:  Scaling (Canine)</td>\n",
       "      <td>Dental</td>\n",
       "      <td>NaN</td>\n",
       "      <td>84.25</td>\n",
       "      <td>2019-09-05 13:57:00.0000000</td>\n",
       "      <td>DENTAL DISEASE</td>\n",
       "    </tr>\n",
       "    <tr>\n",
       "      <th>4</th>\n",
       "      <td>17152945</td>\n",
       "      <td>1907072</td>\n",
       "      <td>5</td>\n",
       "      <td>Sadie Mae:  Pain Management Level 2</td>\n",
       "      <td>TPLO</td>\n",
       "      <td>NaN</td>\n",
       "      <td>67.60</td>\n",
       "      <td>2019-11-26 07:43:00.0000000</td>\n",
       "      <td>CRUCIATE RUPTURE (ACL, CCL)</td>\n",
       "    </tr>\n",
       "  </tbody>\n",
       "</table>\n",
       "</div>"
      ],
      "text/plain": [
       "    ClaimId  LineItemID  PetPolicyID                       ItemDescription  \\\n",
       "0  16980751     2073120            0  Freyja:  Boarding (Canine 51-75 Lbs)   \n",
       "1  17856529     3193005            1                  Axel:  Biohazard Fee   \n",
       "2  17075791      392218            3        Kallie:  Sedation (DexDomitor)   \n",
       "3  16890631      977795            4             Kaiden:  Scaling (Canine)   \n",
       "4  17152945     1907072            5   Sadie Mae:  Pain Management Level 2   \n",
       "\n",
       "           DiagnosisOne DiagnosisTwo  LineItemPrice  \\\n",
       "0    Anal Gland Surgery          NaN          25.00   \n",
       "1                 Atopy          NaN           3.49   \n",
       "2  ruptured CCL (right)          NaN         142.22   \n",
       "3                Dental          NaN          84.25   \n",
       "4                  TPLO          NaN          67.60   \n",
       "\n",
       "               ClaimDateClosed                    Condition  \n",
       "0  2019-10-02 15:33:00.0000000                      NO COND  \n",
       "1  2020-06-29 14:28:00.0000000           ALLERGY (ALLERGIC)  \n",
       "2  2019-11-01 19:29:00.0000000  CRUCIATE RUPTURE (ACL, CCL)  \n",
       "3  2019-09-05 13:57:00.0000000               DENTAL DISEASE  \n",
       "4  2019-11-26 07:43:00.0000000  CRUCIATE RUPTURE (ACL, CCL)  "
      ]
     },
     "execution_count": 6,
     "metadata": {},
     "output_type": "execute_result"
    }
   ],
   "source": [
    "claim_df.head()"
   ]
  },
  {
   "cell_type": "code",
   "execution_count": 7,
   "metadata": {},
   "outputs": [],
   "source": [
    "claim_df.columns= claim_df.columns.str.lower()"
   ]
  },
  {
   "cell_type": "code",
   "execution_count": 8,
   "metadata": {},
   "outputs": [
    {
     "name": "stdout",
     "output_type": "stream",
     "text": [
      "<class 'pandas.core.frame.DataFrame'>\n",
      "RangeIndex: 98057 entries, 0 to 98056\n",
      "Data columns (total 9 columns):\n",
      " #   Column           Non-Null Count  Dtype  \n",
      "---  ------           --------------  -----  \n",
      " 0   claimid          98057 non-null  int64  \n",
      " 1   lineitemid       98057 non-null  int64  \n",
      " 2   petpolicyid      98057 non-null  int64  \n",
      " 3   itemdescription  98057 non-null  object \n",
      " 4   diagnosisone     98048 non-null  object \n",
      " 5   diagnosistwo     5077 non-null   object \n",
      " 6   lineitemprice    98057 non-null  float64\n",
      " 7   claimdateclosed  98057 non-null  object \n",
      " 8   condition        98057 non-null  object \n",
      "dtypes: float64(1), int64(3), object(5)\n",
      "memory usage: 6.7+ MB\n",
      "None\n",
      "------------------------------\n",
      "            claimid    lineitemid   petpolicyid  lineitemprice\n",
      "count  9.805700e+04  9.805700e+04  98057.000000   98057.000000\n",
      "mean   1.652385e+07  1.906811e+06  28423.080351      83.275086\n",
      "std    1.561986e+06  1.119586e+06  19225.149658     158.138538\n",
      "min    1.301355e+07  2.000000e+00      0.000000   -1428.370000\n",
      "25%    1.538648e+07  9.533120e+05  11596.000000      28.000000\n",
      "50%    1.649044e+07  1.839582e+06  25852.000000      52.500000\n",
      "75%    1.773777e+07  2.877955e+06  43915.000000      89.850000\n",
      "max    1.948470e+07  3.929019e+06  67685.000000    9925.950000\n",
      "------------------------------\n",
      "NO COND                                                                0.405020\n",
      "ALLERGY (ALLERGIC)                                                     0.083370\n",
      "MASS(ES)                                                               0.066155\n",
      "DIARRHEA                                                               0.061301\n",
      "VOMITING                                                               0.055029\n",
      "OTITIS EXTERNA                                                         0.048278\n",
      "LIMPING                                                                0.043036\n",
      "DENTAL DISEASE                                                         0.031278\n",
      "GASTROENTERITIS                                                        0.027484\n",
      "CRUCIATE RUPTURE (ACL, CCL)                                            0.026015\n",
      "FRACTURE                                                               0.024812\n",
      "URINARY TRACT INFECTION                                                0.021171\n",
      "KIDNEY DISEASE                                                         0.016664\n",
      "LIVER DISEASE                                                          0.016521\n",
      "TOXIN INGESTION                                                        0.015807\n",
      "FOREIGN MATERIAL INGESTION(INGESTION OF FOREIGN MATERIAL)              0.015389\n",
      "SEIZURE                                                                0.014492\n",
      "COUGH                                                                  0.013166\n",
      "FOREIGN BODY                                                           0.012819\n",
      "HIT BY CAR(VICTIM, PEDESTRIAN IN VEHICULAR AND/OR TRAFFIC ACCIDENT)    0.002172\n",
      "LACRIMAL DUCT OBSTRUCTION, COMPLETE                                    0.000020\n",
      "Name: condition, dtype: float64\n"
     ]
    }
   ],
   "source": [
    "print(claim_df.info())\n",
    "print('------------------------------')\n",
    "print(claim_df.describe())\n",
    "print('------------------------------')\n",
    "print(claim_df[\"condition\"].value_counts(normalize=True))"
   ]
  },
  {
   "cell_type": "code",
   "execution_count": 42,
   "metadata": {},
   "outputs": [
    {
     "data": {
      "text/plain": [
       "claimid            0\n",
       "lineitemid         0\n",
       "petpolicyid        0\n",
       "itemdescription    0\n",
       "diagnosisone       0\n",
       "diagnosistwo       0\n",
       "lineitemprice      0\n",
       "condition          0\n",
       "dtype: int64"
      ]
     },
     "execution_count": 42,
     "metadata": {},
     "output_type": "execute_result"
    }
   ],
   "source": [
    "claim_df.isna().sum()"
   ]
  },
  {
   "cell_type": "code",
   "execution_count": 10,
   "metadata": {},
   "outputs": [],
   "source": [
    "claim_df[['diagnosisone', 'diagnosistwo']] = claim_df[['diagnosisone', 'diagnosistwo']].fillna('none')"
   ]
  },
  {
   "cell_type": "code",
   "execution_count": 11,
   "metadata": {},
   "outputs": [
    {
     "data": {
      "text/html": [
       "<div>\n",
       "<style scoped>\n",
       "    .dataframe tbody tr th:only-of-type {\n",
       "        vertical-align: middle;\n",
       "    }\n",
       "\n",
       "    .dataframe tbody tr th {\n",
       "        vertical-align: top;\n",
       "    }\n",
       "\n",
       "    .dataframe thead th {\n",
       "        text-align: right;\n",
       "    }\n",
       "</style>\n",
       "<table border=\"1\" class=\"dataframe\">\n",
       "  <thead>\n",
       "    <tr style=\"text-align: right;\">\n",
       "      <th></th>\n",
       "      <th>claimid</th>\n",
       "      <th>lineitemid</th>\n",
       "      <th>petpolicyid</th>\n",
       "      <th>itemdescription</th>\n",
       "      <th>diagnosisone</th>\n",
       "      <th>diagnosistwo</th>\n",
       "      <th>lineitemprice</th>\n",
       "      <th>claimdateclosed</th>\n",
       "      <th>condition</th>\n",
       "    </tr>\n",
       "  </thead>\n",
       "  <tbody>\n",
       "  </tbody>\n",
       "</table>\n",
       "</div>"
      ],
      "text/plain": [
       "Empty DataFrame\n",
       "Columns: [claimid, lineitemid, petpolicyid, itemdescription, diagnosisone, diagnosistwo, lineitemprice, claimdateclosed, condition]\n",
       "Index: []"
      ]
     },
     "execution_count": 11,
     "metadata": {},
     "output_type": "execute_result"
    }
   ],
   "source": [
    "claim_df[claim_df.duplicated(subset = None, keep = False)]"
   ]
  },
  {
   "cell_type": "markdown",
   "metadata": {},
   "source": [
    "### Droping `claimdateclosed` column \n",
    "#### It does not have impact on our modeling."
   ]
  },
  {
   "cell_type": "code",
   "execution_count": 12,
   "metadata": {},
   "outputs": [],
   "source": [
    "claim_df = claim_df.drop(columns = ['claimdateclosed'])"
   ]
  },
  {
   "cell_type": "code",
   "execution_count": 13,
   "metadata": {},
   "outputs": [
    {
     "data": {
      "image/png": "[encoded data removed]",
      "text/plain": [
       "<Figure size 432x288 with 1 Axes>"
      ]
     },
     "metadata": {
      "needs_background": "light"
     },
     "output_type": "display_data"
    }
   ],
   "source": [
    "claim_df.condition.hist()\n",
    "plt.xticks(rotation='vertical');"
   ]
  },
  {
   "cell_type": "markdown",
   "metadata": {},
   "source": [
    "## Observations:\n",
    "#### - There are 21 classes in the `condition` column;\n",
    "#### - Except three main features of `itemdescription`, `diagnosisone`, and `diagnosistwo` the othere featurs are id's;\n",
    "#### - `diagnosistwo` only has 5077 non_null data out of 98057, so it is not considered for the preliminary analysis; \n",
    "#### - To simplify the data and create a simple preliminary model, `diagnosisone` is considered as the input feature;"
   ]
  },
  {
   "cell_type": "markdown",
   "metadata": {},
   "source": [
    "## Creating X_train and y_train"
   ]
  },
  {
   "cell_type": "code",
   "execution_count": 14,
   "metadata": {},
   "outputs": [],
   "source": [
    "### Separating X_train and y_train\n",
    "X_train = claim_df.drop(columns=['condition'])\n",
    "y_train = claim_df['condition']"
   ]
  },
  {
   "cell_type": "markdown",
   "metadata": {},
   "source": [
    "### Function for storing the mean and standard deviation of the scores of the models"
   ]
  },
  {
   "cell_type": "code",
   "execution_count": 15,
   "metadata": {},
   "outputs": [],
   "source": [
    "def mean_std_cross_val_scores(model, X_train, y_train, **kwargs):\n",
    "    \"\"\"\n",
    "    Returns mean and std of cross validation\n",
    "    \"\"\"\n",
    "    scores = cross_validate(model, \n",
    "                            X_train, y_train, \n",
    "                            **kwargs)    \n",
    "    \n",
    "    mean_scores = pd.DataFrame(scores).mean()\n",
    "    std_scores = pd.DataFrame(scores).std()\n",
    "    out_col = []\n",
    "\n",
    "    for i in range(len(mean_scores)):  \n",
    "        out_col.append((f\"%0.3f (+/- %0.3f)\" % (mean_scores[i], std_scores[i])))\n",
    "\n",
    "    return pd.Series(data = out_col, index = mean_scores.index)    "
   ]
  },
  {
   "cell_type": "code",
   "execution_count": 36,
   "metadata": {},
   "outputs": [],
   "source": [
    "results = {}\n",
    "scoring_metric = 'accuracy'"
   ]
  },
  {
   "cell_type": "markdown",
   "metadata": {},
   "source": [
    "### Using Dummy Classifier model to create the baseline"
   ]
  },
  {
   "cell_type": "code",
   "execution_count": 37,
   "metadata": {},
   "outputs": [],
   "source": [
    "dummy_pipe = make_pipeline(CountVectorizer(), DummyClassifier(strategy='stratified'))"
   ]
  },
  {
   "cell_type": "code",
   "execution_count": 38,
   "metadata": {},
   "outputs": [
    {
     "name": "stderr",
     "output_type": "stream",
     "text": [
      "/opt/miniconda3/lib/python3.8/site-packages/sklearn/model_selection/_split.py:676: UserWarning: The least populated class in y has only 2 members, which is less than n_splits=5.\n",
      "  warnings.warn(\n"
     ]
    }
   ],
   "source": [
    "results['Dummy'] = mean_std_cross_val_scores(dummy_pipe, X_train['diagnosisone'], y_train, return_train_score=True, scoring=scoring_metric)"
   ]
  },
  {
   "cell_type": "markdown",
   "metadata": {},
   "source": [
    "### The models used include:\n",
    "\n",
    "#### - Logistic Regression\n",
    "#### - Decision Tree\n",
    "#### - Random Forest\n",
    "#### - XGBoost\n",
    "#### - LGBMClassifier\n",
    "#### - CatBoostClassifier\n",
    "#### - SVC"
   ]
  },
  {
   "cell_type": "code",
   "execution_count": 39,
   "metadata": {},
   "outputs": [],
   "source": [
    "pipe_lr = make_pipeline(CountVectorizer(), LogisticRegression(max_iter=2000, random_state=123))\n",
    "pipe_dt = make_pipeline(CountVectorizer(), DecisionTreeClassifier(random_state=123))\n",
    "pipe_rf = make_pipeline(CountVectorizer(), RandomForestClassifier(random_state=123))\n",
    "pipe_xgb = make_pipeline(CountVectorizer(), XGBClassifier(random_state=123))\n",
    "pipe_lgbm = make_pipeline(CountVectorizer(), LGBMClassifier(random_state=123))\n",
    "pipe_catboost = make_pipeline(CountVectorizer(), CatBoostClassifier(verbose=0, random_state=123))\n",
    "classifiers = {\n",
    "    'logistic regression' : pipe_lr,\n",
    "    'decision tree' : pipe_dt,\n",
    "    'random forest' : pipe_rf,\n",
    "    'XGBoost' : pipe_xgb, \n",
    "    'LightGBM' : pipe_lgbm,\n",
    "    'CatBoost' : pipe_catboost\n",
    "}"
   ]
  },
  {
   "cell_type": "code",
   "execution_count": 40,
   "metadata": {},
   "outputs": [
    {
     "name": "stderr",
     "output_type": "stream",
     "text": [
      "/opt/miniconda3/lib/python3.8/site-packages/sklearn/model_selection/_split.py:676: UserWarning: The least populated class in y has only 2 members, which is less than n_splits=5.\n",
      "  warnings.warn(\n",
      "/opt/miniconda3/lib/python3.8/site-packages/sklearn/model_selection/_split.py:676: UserWarning: The least populated class in y has only 2 members, which is less than n_splits=5.\n",
      "  warnings.warn(\n",
      "/opt/miniconda3/lib/python3.8/site-packages/sklearn/model_selection/_split.py:676: UserWarning: The least populated class in y has only 2 members, which is less than n_splits=5.\n",
      "  warnings.warn(\n",
      "/opt/miniconda3/lib/python3.8/site-packages/sklearn/model_selection/_split.py:676: UserWarning: The least populated class in y has only 2 members, which is less than n_splits=5.\n",
      "  warnings.warn(\n",
      "/opt/miniconda3/lib/python3.8/site-packages/xgboost/sklearn.py:1146: UserWarning: The use of label encoder in XGBClassifier is deprecated and will be removed in a future release. To remove this warning, do the following: 1) Pass option use_label_encoder=False when constructing XGBClassifier object; and 2) Encode your labels (y) as integers starting with 0, i.e. 0, 1, 2, ..., [num_class - 1].\n",
      "  warnings.warn(label_encoder_deprecation_msg, UserWarning)\n"
     ]
    },
    {
     "name": "stdout",
     "output_type": "stream",
     "text": [
      "[08:58:38] WARNING: /Users/travis/build/dmlc/xgboost/src/learner.cc:1095: Starting in XGBoost 1.3.0, the default evaluation metric used with the objective 'multi:softprob' was changed from 'merror' to 'mlogloss'. Explicitly set eval_metric if you'd like to restore the old behavior.\n"
     ]
    },
    {
     "name": "stderr",
     "output_type": "stream",
     "text": [
      "/opt/miniconda3/lib/python3.8/site-packages/xgboost/sklearn.py:1146: UserWarning: The use of label encoder in XGBClassifier is deprecated and will be removed in a future release. To remove this warning, do the following: 1) Pass option use_label_encoder=False when constructing XGBClassifier object; and 2) Encode your labels (y) as integers starting with 0, i.e. 0, 1, 2, ..., [num_class - 1].\n",
      "  warnings.warn(label_encoder_deprecation_msg, UserWarning)\n"
     ]
    },
    {
     "name": "stdout",
     "output_type": "stream",
     "text": [
      "[09:18:31] WARNING: /Users/travis/build/dmlc/xgboost/src/learner.cc:1095: Starting in XGBoost 1.3.0, the default evaluation metric used with the objective 'multi:softprob' was changed from 'merror' to 'mlogloss'. Explicitly set eval_metric if you'd like to restore the old behavior.\n"
     ]
    },
    {
     "name": "stderr",
     "output_type": "stream",
     "text": [
      "/opt/miniconda3/lib/python3.8/site-packages/xgboost/sklearn.py:1146: UserWarning: The use of label encoder in XGBClassifier is deprecated and will be removed in a future release. To remove this warning, do the following: 1) Pass option use_label_encoder=False when constructing XGBClassifier object; and 2) Encode your labels (y) as integers starting with 0, i.e. 0, 1, 2, ..., [num_class - 1].\n",
      "  warnings.warn(label_encoder_deprecation_msg, UserWarning)\n"
     ]
    },
    {
     "name": "stdout",
     "output_type": "stream",
     "text": [
      "[09:18:58] WARNING: /Users/travis/build/dmlc/xgboost/src/learner.cc:1095: Starting in XGBoost 1.3.0, the default evaluation metric used with the objective 'multi:softprob' was changed from 'merror' to 'mlogloss'. Explicitly set eval_metric if you'd like to restore the old behavior.\n"
     ]
    },
    {
     "name": "stderr",
     "output_type": "stream",
     "text": [
      "/opt/miniconda3/lib/python3.8/site-packages/xgboost/sklearn.py:1146: UserWarning: The use of label encoder in XGBClassifier is deprecated and will be removed in a future release. To remove this warning, do the following: 1) Pass option use_label_encoder=False when constructing XGBClassifier object; and 2) Encode your labels (y) as integers starting with 0, i.e. 0, 1, 2, ..., [num_class - 1].\n",
      "  warnings.warn(label_encoder_deprecation_msg, UserWarning)\n"
     ]
    },
    {
     "name": "stdout",
     "output_type": "stream",
     "text": [
      "[09:19:29] WARNING: /Users/travis/build/dmlc/xgboost/src/learner.cc:1095: Starting in XGBoost 1.3.0, the default evaluation metric used with the objective 'multi:softprob' was changed from 'merror' to 'mlogloss'. Explicitly set eval_metric if you'd like to restore the old behavior.\n"
     ]
    },
    {
     "name": "stderr",
     "output_type": "stream",
     "text": [
      "/opt/miniconda3/lib/python3.8/site-packages/xgboost/sklearn.py:1146: UserWarning: The use of label encoder in XGBClassifier is deprecated and will be removed in a future release. To remove this warning, do the following: 1) Pass option use_label_encoder=False when constructing XGBClassifier object; and 2) Encode your labels (y) as integers starting with 0, i.e. 0, 1, 2, ..., [num_class - 1].\n",
      "  warnings.warn(label_encoder_deprecation_msg, UserWarning)\n"
     ]
    },
    {
     "name": "stdout",
     "output_type": "stream",
     "text": [
      "[09:20:01] WARNING: /Users/travis/build/dmlc/xgboost/src/learner.cc:1095: Starting in XGBoost 1.3.0, the default evaluation metric used with the objective 'multi:softprob' was changed from 'merror' to 'mlogloss'. Explicitly set eval_metric if you'd like to restore the old behavior.\n"
     ]
    },
    {
     "name": "stderr",
     "output_type": "stream",
     "text": [
      "/opt/miniconda3/lib/python3.8/site-packages/sklearn/model_selection/_split.py:676: UserWarning: The least populated class in y has only 2 members, which is less than n_splits=5.\n",
      "  warnings.warn(\n",
      "/opt/miniconda3/lib/python3.8/site-packages/sklearn/model_selection/_validation.py:372: FitFailedWarning: \n",
      "5 fits failed out of a total of 5.\n",
      "The score on these train-test partitions for these parameters will be set to nan.\n",
      "If these failures are not expected, you can try to debug them by setting error_score='raise'.\n",
      "\n",
      "Below are more details about the failures:\n",
      "--------------------------------------------------------------------------------\n",
      "5 fits failed with the following error:\n",
      "Traceback (most recent call last):\n",
      "  File \"/opt/miniconda3/lib/python3.8/site-packages/sklearn/model_selection/_validation.py\", line 680, in _fit_and_score\n",
      "    estimator.fit(X_train, y_train, **fit_params)\n",
      "  File \"/opt/miniconda3/lib/python3.8/site-packages/sklearn/pipeline.py\", line 394, in fit\n",
      "    self._final_estimator.fit(Xt, y, **fit_params_last_step)\n",
      "  File \"/opt/miniconda3/lib/python3.8/site-packages/lightgbm/sklearn.py\", line 890, in fit\n",
      "    super().fit(X, _y, sample_weight=sample_weight, init_score=init_score, eval_set=valid_sets,\n",
      "  File \"/opt/miniconda3/lib/python3.8/site-packages/lightgbm/sklearn.py\", line 683, in fit\n",
      "    self._Booster = train(params, train_set,\n",
      "  File \"/opt/miniconda3/lib/python3.8/site-packages/lightgbm/engine.py\", line 228, in train\n",
      "    booster = Booster(params=params, train_set=train_set)\n",
      "  File \"/opt/miniconda3/lib/python3.8/site-packages/lightgbm/basic.py\", line 2229, in __init__\n",
      "    train_set.construct()\n",
      "  File \"/opt/miniconda3/lib/python3.8/site-packages/lightgbm/basic.py\", line 1468, in construct\n",
      "    self._lazy_init(self.data, label=self.label,\n",
      "  File \"/opt/miniconda3/lib/python3.8/site-packages/lightgbm/basic.py\", line 1266, in _lazy_init\n",
      "    self.__init_from_csr(data, params_str, ref_dataset)\n",
      "  File \"/opt/miniconda3/lib/python3.8/site-packages/lightgbm/basic.py\", line 1376, in __init_from_csr\n",
      "    ptr_data, type_ptr_data, _ = c_float_array(csr.data)\n",
      "  File \"/opt/miniconda3/lib/python3.8/site-packages/lightgbm/basic.py\", line 468, in c_float_array\n",
      "    raise TypeError(\"Expected np.float32 or np.float64, met type({})\"\n",
      "TypeError: Expected np.float32 or np.float64, met type(int64)\n",
      "\n",
      "  warnings.warn(some_fits_failed_message, FitFailedWarning)\n",
      "/opt/miniconda3/lib/python3.8/site-packages/sklearn/model_selection/_split.py:676: UserWarning: The least populated class in y has only 2 members, which is less than n_splits=5.\n",
      "  warnings.warn(\n"
     ]
    }
   ],
   "source": [
    "for (name, model) in classifiers.items():    \n",
    "    results[name] = mean_std_cross_val_scores(model,X_train['diagnosisone'], y_train , return_train_score=True, scoring=scoring_metric)"
   ]
  },
  {
   "cell_type": "code",
   "execution_count": 43,
   "metadata": {},
   "outputs": [
    {
     "data": {
      "text/html": [
       "<div>\n",
       "<style scoped>\n",
       "    .dataframe tbody tr th:only-of-type {\n",
       "        vertical-align: middle;\n",
       "    }\n",
       "\n",
       "    .dataframe tbody tr th {\n",
       "        vertical-align: top;\n",
       "    }\n",
       "\n",
       "    .dataframe thead th {\n",
       "        text-align: right;\n",
       "    }\n",
       "</style>\n",
       "<table border=\"1\" class=\"dataframe\">\n",
       "  <thead>\n",
       "    <tr style=\"text-align: right;\">\n",
       "      <th></th>\n",
       "      <th>Dummy</th>\n",
       "      <th>logistic regression</th>\n",
       "      <th>decision tree</th>\n",
       "      <th>random forest</th>\n",
       "      <th>XGBoost</th>\n",
       "      <th>LightGBM</th>\n",
       "      <th>CatBoost</th>\n",
       "    </tr>\n",
       "  </thead>\n",
       "  <tbody>\n",
       "    <tr>\n",
       "      <th>fit_time</th>\n",
       "      <td>0.375 (+/- 0.006)</td>\n",
       "      <td>34.476 (+/- 2.604)</td>\n",
       "      <td>7.311 (+/- 0.054)</td>\n",
       "      <td>198.645 (+/- 3.475)</td>\n",
       "      <td>258.473 (+/- 520.547)</td>\n",
       "      <td>0.416 (+/- 0.008)</td>\n",
       "      <td>876.684 (+/- 76.100)</td>\n",
       "    </tr>\n",
       "    <tr>\n",
       "      <th>score_time</th>\n",
       "      <td>0.110 (+/- 0.006)</td>\n",
       "      <td>0.133 (+/- 0.007)</td>\n",
       "      <td>0.126 (+/- 0.002)</td>\n",
       "      <td>2.144 (+/- 0.114)</td>\n",
       "      <td>0.748 (+/- 0.056)</td>\n",
       "      <td>0.000 (+/- 0.000)</td>\n",
       "      <td>0.182 (+/- 0.009)</td>\n",
       "    </tr>\n",
       "    <tr>\n",
       "      <th>test_score</th>\n",
       "      <td>0.192 (+/- 0.002)</td>\n",
       "      <td>0.663 (+/- 0.002)</td>\n",
       "      <td>0.647 (+/- 0.005)</td>\n",
       "      <td>0.665 (+/- 0.003)</td>\n",
       "      <td>0.662 (+/- 0.001)</td>\n",
       "      <td>nan (+/- nan)</td>\n",
       "      <td>0.651 (+/- 0.002)</td>\n",
       "    </tr>\n",
       "    <tr>\n",
       "      <th>train_score</th>\n",
       "      <td>0.192 (+/- 0.001)</td>\n",
       "      <td>0.710 (+/- 0.001)</td>\n",
       "      <td>0.821 (+/- 0.000)</td>\n",
       "      <td>0.821 (+/- 0.000)</td>\n",
       "      <td>0.699 (+/- 0.000)</td>\n",
       "      <td>nan (+/- nan)</td>\n",
       "      <td>0.659 (+/- 0.001)</td>\n",
       "    </tr>\n",
       "  </tbody>\n",
       "</table>\n",
       "</div>"
      ],
      "text/plain": [
       "                         Dummy logistic regression      decision tree  \\\n",
       "fit_time     0.375 (+/- 0.006)  34.476 (+/- 2.604)  7.311 (+/- 0.054)   \n",
       "score_time   0.110 (+/- 0.006)   0.133 (+/- 0.007)  0.126 (+/- 0.002)   \n",
       "test_score   0.192 (+/- 0.002)   0.663 (+/- 0.002)  0.647 (+/- 0.005)   \n",
       "train_score  0.192 (+/- 0.001)   0.710 (+/- 0.001)  0.821 (+/- 0.000)   \n",
       "\n",
       "                   random forest                XGBoost           LightGBM  \\\n",
       "fit_time     198.645 (+/- 3.475)  258.473 (+/- 520.547)  0.416 (+/- 0.008)   \n",
       "score_time     2.144 (+/- 0.114)      0.748 (+/- 0.056)  0.000 (+/- 0.000)   \n",
       "test_score     0.665 (+/- 0.003)      0.662 (+/- 0.001)      nan (+/- nan)   \n",
       "train_score    0.821 (+/- 0.000)      0.699 (+/- 0.000)      nan (+/- nan)   \n",
       "\n",
       "                         CatBoost  \n",
       "fit_time     876.684 (+/- 76.100)  \n",
       "score_time      0.182 (+/- 0.009)  \n",
       "test_score      0.651 (+/- 0.002)  \n",
       "train_score     0.659 (+/- 0.001)  "
      ]
     },
     "execution_count": 43,
     "metadata": {},
     "output_type": "execute_result"
    }
   ],
   "source": [
    "pd.DataFrame(results)"
   ]
  },
  {
   "cell_type": "markdown",
   "metadata": {},
   "source": [
    "### Observations so far:\n",
    "\n",
    "#### - Random Forest and decision tree models are overfitting;\n",
    "#### - Logistic Regression has a fairly short fit time and train_score and validation_score are close;\n",
    "#### - Cat Boost is the best for its scores on train_score and validation_score and small standard devitions but it takes too long to fit and short time to score;\n",
    "#### - Among all models XGBoost has fairly close train_score and validation_score and a reasonable time to fit but a long time to score;"
   ]
  },
  {
   "cell_type": "markdown",
   "metadata": {},
   "source": [
    "### Overall result so far:\n",
    "#### -- Cat Boost and XGBoost are very similar for the time they take to fit and score; \n",
    "#### -- Cat Boost have a very close test score and train score so we choose Cat Boost if the long time of training and scoring is not important for us;\n",
    "#### -- If the time is improtant then we choose Logistic Regression;"
   ]
  },
  {
   "cell_type": "markdown",
   "metadata": {},
   "source": [
    "#### -- It should be noted that these results are based on default hyperparameters; \n",
    "#### -- Hyperparameter optimization can be carried out for all of them and then compare the results;"
   ]
  },
  {
   "cell_type": "markdown",
   "metadata": {},
   "source": [
    "#### `CountVectorizer` is the simplest way of extracting features from text. As the next step `Tfidfvectorizer` is a statistical method that measures how relevant a word is to a document in a set of documents. As the next step `Tfidfvectorizer` is used for the feature extraction in two models `LogisticRegression` and `SCV`"
   ]
  },
  {
   "cell_type": "code",
   "execution_count": 53,
   "metadata": {},
   "outputs": [],
   "source": [
    "pipe_tfidf_lr = make_pipeline(TfidfVectorizer( stop_words='english'), LogisticRegression(max_iter=2000, random_state=123))"
   ]
  },
  {
   "cell_type": "code",
   "execution_count": 54,
   "metadata": {},
   "outputs": [
    {
     "data": {
      "text/plain": [
       "Pipeline(steps=[('tfidfvectorizer', TfidfVectorizer(stop_words='english')),\n",
       "                ('logisticregression',\n",
       "                 LogisticRegression(max_iter=2000, random_state=123))])"
      ]
     },
     "execution_count": 54,
     "metadata": {},
     "output_type": "execute_result"
    }
   ],
   "source": [
    "pipe_tfidf_lr.fit(X_train['diagnosisone'], y_train)"
   ]
  },
  {
   "cell_type": "code",
   "execution_count": 56,
   "metadata": {},
   "outputs": [
    {
     "name": "stderr",
     "output_type": "stream",
     "text": [
      "/opt/miniconda3/lib/python3.8/site-packages/sklearn/model_selection/_split.py:676: UserWarning: The least populated class in y has only 2 members, which is less than n_splits=5.\n",
      "  warnings.warn(\n"
     ]
    }
   ],
   "source": [
    "results['logistc regression tfidf'] = mean_std_cross_val_scores(pipe_tfidf_lr,X_train['diagnosisone'], y_train , return_train_score=True, scoring=scoring_metric)"
   ]
  },
  {
   "cell_type": "code",
   "execution_count": null,
   "metadata": {},
   "outputs": [],
   "source": [
    "pipe_tfidf_svc = make_pipeline(TfidfVectorizer( stop_words='english'), svc)"
   ]
  },
  {
   "cell_type": "code",
   "execution_count": null,
   "metadata": {},
   "outputs": [],
   "source": [
    "pipe_tfidf_svc.fit(X_train['diagnosisone'], y_train)"
   ]
  },
  {
   "cell_type": "code",
   "execution_count": null,
   "metadata": {},
   "outputs": [],
   "source": [
    "results['svc tfidf'] = mean_std_cross_val_scores(pipe_tfidf_svc,X_train['diagnosisone'], y_train , return_train_score=True, scoring=scoring_metric)"
   ]
  },
  {
   "cell_type": "code",
   "execution_count": 62,
   "metadata": {},
   "outputs": [
    {
     "data": {
      "text/html": [
       "<div>\n",
       "<style scoped>\n",
       "    .dataframe tbody tr th:only-of-type {\n",
       "        vertical-align: middle;\n",
       "    }\n",
       "\n",
       "    .dataframe tbody tr th {\n",
       "        vertical-align: top;\n",
       "    }\n",
       "\n",
       "    .dataframe thead th {\n",
       "        text-align: right;\n",
       "    }\n",
       "</style>\n",
       "<table border=\"1\" class=\"dataframe\">\n",
       "  <thead>\n",
       "    <tr style=\"text-align: right;\">\n",
       "      <th></th>\n",
       "      <th>Dummy</th>\n",
       "      <th>logistic regression</th>\n",
       "      <th>decision tree</th>\n",
       "      <th>random forest</th>\n",
       "      <th>XGBoost</th>\n",
       "      <th>LightGBM</th>\n",
       "      <th>CatBoost</th>\n",
       "      <th>logistc regression tfidf</th>\n",
       "      <th>svc tfidf</th>\n",
       "    </tr>\n",
       "  </thead>\n",
       "  <tbody>\n",
       "    <tr>\n",
       "      <th>fit_time</th>\n",
       "      <td>0.375 (+/- 0.006)</td>\n",
       "      <td>34.476 (+/- 2.604)</td>\n",
       "      <td>7.311 (+/- 0.054)</td>\n",
       "      <td>198.645 (+/- 3.475)</td>\n",
       "      <td>258.473 (+/- 520.547)</td>\n",
       "      <td>0.416 (+/- 0.008)</td>\n",
       "      <td>876.684 (+/- 76.100)</td>\n",
       "      <td>31.894 (+/- 2.398)</td>\n",
       "      <td>531.521 (+/- 232.185)</td>\n",
       "    </tr>\n",
       "    <tr>\n",
       "      <th>score_time</th>\n",
       "      <td>0.110 (+/- 0.006)</td>\n",
       "      <td>0.133 (+/- 0.007)</td>\n",
       "      <td>0.126 (+/- 0.002)</td>\n",
       "      <td>2.144 (+/- 0.114)</td>\n",
       "      <td>0.748 (+/- 0.056)</td>\n",
       "      <td>0.000 (+/- 0.000)</td>\n",
       "      <td>0.182 (+/- 0.009)</td>\n",
       "      <td>0.142 (+/- 0.011)</td>\n",
       "      <td>431.703 (+/- 825.876)</td>\n",
       "    </tr>\n",
       "    <tr>\n",
       "      <th>test_score</th>\n",
       "      <td>0.192 (+/- 0.002)</td>\n",
       "      <td>0.663 (+/- 0.002)</td>\n",
       "      <td>0.647 (+/- 0.005)</td>\n",
       "      <td>0.665 (+/- 0.003)</td>\n",
       "      <td>0.662 (+/- 0.001)</td>\n",
       "      <td>nan (+/- nan)</td>\n",
       "      <td>0.651 (+/- 0.002)</td>\n",
       "      <td>0.651 (+/- 0.002)</td>\n",
       "      <td>0.671 (+/- 0.002)</td>\n",
       "    </tr>\n",
       "    <tr>\n",
       "      <th>train_score</th>\n",
       "      <td>0.192 (+/- 0.001)</td>\n",
       "      <td>0.710 (+/- 0.001)</td>\n",
       "      <td>0.821 (+/- 0.000)</td>\n",
       "      <td>0.821 (+/- 0.000)</td>\n",
       "      <td>0.699 (+/- 0.000)</td>\n",
       "      <td>nan (+/- nan)</td>\n",
       "      <td>0.659 (+/- 0.001)</td>\n",
       "      <td>0.676 (+/- 0.001)</td>\n",
       "      <td>0.750 (+/- 0.000)</td>\n",
       "    </tr>\n",
       "  </tbody>\n",
       "</table>\n",
       "</div>"
      ],
      "text/plain": [
       "                         Dummy logistic regression      decision tree  \\\n",
       "fit_time     0.375 (+/- 0.006)  34.476 (+/- 2.604)  7.311 (+/- 0.054)   \n",
       "score_time   0.110 (+/- 0.006)   0.133 (+/- 0.007)  0.126 (+/- 0.002)   \n",
       "test_score   0.192 (+/- 0.002)   0.663 (+/- 0.002)  0.647 (+/- 0.005)   \n",
       "train_score  0.192 (+/- 0.001)   0.710 (+/- 0.001)  0.821 (+/- 0.000)   \n",
       "\n",
       "                   random forest                XGBoost           LightGBM  \\\n",
       "fit_time     198.645 (+/- 3.475)  258.473 (+/- 520.547)  0.416 (+/- 0.008)   \n",
       "score_time     2.144 (+/- 0.114)      0.748 (+/- 0.056)  0.000 (+/- 0.000)   \n",
       "test_score     0.665 (+/- 0.003)      0.662 (+/- 0.001)      nan (+/- nan)   \n",
       "train_score    0.821 (+/- 0.000)      0.699 (+/- 0.000)      nan (+/- nan)   \n",
       "\n",
       "                         CatBoost logistc regression tfidf  \\\n",
       "fit_time     876.684 (+/- 76.100)       31.894 (+/- 2.398)   \n",
       "score_time      0.182 (+/- 0.009)        0.142 (+/- 0.011)   \n",
       "test_score      0.651 (+/- 0.002)        0.651 (+/- 0.002)   \n",
       "train_score     0.659 (+/- 0.001)        0.676 (+/- 0.001)   \n",
       "\n",
       "                         svc tfidf  \n",
       "fit_time     531.521 (+/- 232.185)  \n",
       "score_time   431.703 (+/- 825.876)  \n",
       "test_score       0.671 (+/- 0.002)  \n",
       "train_score      0.750 (+/- 0.000)  "
      ]
     },
     "execution_count": 62,
     "metadata": {},
     "output_type": "execute_result"
    }
   ],
   "source": [
    "pd.DataFrame(results)"
   ]
  },
  {
   "cell_type": "markdown",
   "metadata": {},
   "source": [
    "### Logistic regression with tfidf has a very similar result to CatBoost with much less fit time.\n",
    "## Logistic Regression with tfidf is used as the best model.\n",
    "### As the next step hyperparameter optimizaition is carried out on hyperparmeter C for Logistic Regression."
   ]
  },
  {
   "cell_type": "code",
   "execution_count": 66,
   "metadata": {},
   "outputs": [
    {
     "name": "stderr",
     "output_type": "stream",
     "text": [
      "/opt/miniconda3/lib/python3.8/site-packages/sklearn/model_selection/_split.py:676: UserWarning: The least populated class in y has only 2 members, which is less than n_splits=5.\n",
      "  warnings.warn(\n",
      "/opt/miniconda3/lib/python3.8/site-packages/sklearn/model_selection/_split.py:676: UserWarning: The least populated class in y has only 2 members, which is less than n_splits=5.\n",
      "  warnings.warn(\n",
      "/opt/miniconda3/lib/python3.8/site-packages/sklearn/model_selection/_split.py:676: UserWarning: The least populated class in y has only 2 members, which is less than n_splits=5.\n",
      "  warnings.warn(\n",
      "/opt/miniconda3/lib/python3.8/site-packages/sklearn/model_selection/_split.py:676: UserWarning: The least populated class in y has only 2 members, which is less than n_splits=5.\n",
      "  warnings.warn(\n",
      "/opt/miniconda3/lib/python3.8/site-packages/sklearn/linear_model/_logistic.py:814: ConvergenceWarning: lbfgs failed to converge (status=1):\n",
      "STOP: TOTAL NO. of ITERATIONS REACHED LIMIT.\n",
      "\n",
      "Increase the number of iterations (max_iter) or scale the data as shown in:\n",
      "    https://scikit-learn.org/stable/modules/preprocessing.html\n",
      "Please also refer to the documentation for alternative solver options:\n",
      "    https://scikit-learn.org/stable/modules/linear_model.html#logistic-regression\n",
      "  n_iter_i = _check_optimize_result(\n"
     ]
    }
   ],
   "source": [
    "### Writing a loop for hyperparameter optimization for C for Logistic Regression\n",
    "param_grid = {\n",
    "    \"C\": [0.1, 1.0, 10, 100]\n",
    "}\n",
    "\n",
    "param_scores = { \"C\": [], \"train_accuracy\": [], \"valid_accuracy\": []}\n",
    "\n",
    "for c_val in param_grid[\"C\"]:\n",
    "    pipe = make_pipeline(TfidfVectorizer( stop_words='english'), LogisticRegression(max_iter=2000, random_state=123, C=c_val))\n",
    "    scores = cross_validate(pipe, X_train['diagnosisone'], y_train, cv=5, return_train_score=True)\n",
    "    param_scores[\"C\"].append(c_val)\n",
    "    param_scores[\"train_accuracy\"].append(np.mean(scores[\"train_score\"]))\n",
    "    param_scores[\"valid_accuracy\"].append(np.mean(scores[\"test_score\"]))"
   ]
  },
  {
   "cell_type": "code",
   "execution_count": 67,
   "metadata": {},
   "outputs": [
    {
     "data": {
      "text/html": [
       "<div>\n",
       "<style scoped>\n",
       "    .dataframe tbody tr th:only-of-type {\n",
       "        vertical-align: middle;\n",
       "    }\n",
       "\n",
       "    .dataframe tbody tr th {\n",
       "        vertical-align: top;\n",
       "    }\n",
       "\n",
       "    .dataframe thead th {\n",
       "        text-align: right;\n",
       "    }\n",
       "</style>\n",
       "<table border=\"1\" class=\"dataframe\">\n",
       "  <thead>\n",
       "    <tr style=\"text-align: right;\">\n",
       "      <th></th>\n",
       "      <th>C</th>\n",
       "      <th>train_accuracy</th>\n",
       "      <th>valid_accuracy</th>\n",
       "    </tr>\n",
       "  </thead>\n",
       "  <tbody>\n",
       "    <tr>\n",
       "      <th>2</th>\n",
       "      <td>10.0</td>\n",
       "      <td>0.730465</td>\n",
       "      <td>0.658872</td>\n",
       "    </tr>\n",
       "    <tr>\n",
       "      <th>1</th>\n",
       "      <td>1.0</td>\n",
       "      <td>0.675531</td>\n",
       "      <td>0.651407</td>\n",
       "    </tr>\n",
       "    <tr>\n",
       "      <th>3</th>\n",
       "      <td>100.0</td>\n",
       "      <td>0.740936</td>\n",
       "      <td>0.650632</td>\n",
       "    </tr>\n",
       "    <tr>\n",
       "      <th>0</th>\n",
       "      <td>0.1</td>\n",
       "      <td>0.624315</td>\n",
       "      <td>0.621180</td>\n",
       "    </tr>\n",
       "  </tbody>\n",
       "</table>\n",
       "</div>"
      ],
      "text/plain": [
       "       C  train_accuracy  valid_accuracy\n",
       "2   10.0        0.730465        0.658872\n",
       "1    1.0        0.675531        0.651407\n",
       "3  100.0        0.740936        0.650632\n",
       "0    0.1        0.624315        0.621180"
      ]
     },
     "execution_count": 67,
     "metadata": {},
     "output_type": "execute_result"
    }
   ],
   "source": [
    "pd.DataFrame(param_scores).sort_values('valid_accuracy', ascending=False)"
   ]
  },
  {
   "cell_type": "markdown",
   "metadata": {},
   "source": [
    "### The two choices here are:\n",
    "  #### - Using Logistic Regression with the highest validation score (C= 10.0);\n",
    "  #### - Using Logistic Regression with the closest train_accuracy and valid_accuracy (C=1.0)\n",
    "    \n",
    "    "
   ]
  },
  {
   "cell_type": "markdown",
   "metadata": {},
   "source": [
    "# Final solution: Using Logistic Regression with C=10.0 on test set"
   ]
  },
  {
   "cell_type": "markdown",
   "metadata": {},
   "source": [
    "### Reading Test Data"
   ]
  },
  {
   "cell_type": "code",
   "execution_count": 69,
   "metadata": {},
   "outputs": [],
   "source": [
    "test_df = pd.read_csv(\"PartII_Data/Holdout.csv\")"
   ]
  },
  {
   "cell_type": "code",
   "execution_count": 70,
   "metadata": {},
   "outputs": [
    {
     "data": {
      "text/plain": [
       "ClaimId               0\n",
       "LineItemID            0\n",
       "PetPolicyID           0\n",
       "ItemDescription       0\n",
       "DiagnosisOne          1\n",
       "DiagnosisTwo       4841\n",
       "LineItemPrice         0\n",
       "ClaimDateClosed       0\n",
       "Condition          5000\n",
       "dtype: int64"
      ]
     },
     "execution_count": 70,
     "metadata": {},
     "output_type": "execute_result"
    }
   ],
   "source": [
    "# Inspecting the test_df for missing data\n",
    "test_df.isna().sum()"
   ]
  },
  {
   "cell_type": "code",
   "execution_count": 71,
   "metadata": {},
   "outputs": [],
   "source": [
    "test_df['DiagnosisOne'] = test_df['DiagnosisOne'].fillna(\"None\")"
   ]
  },
  {
   "cell_type": "code",
   "execution_count": 74,
   "metadata": {},
   "outputs": [],
   "source": [
    "pipe_lr_tfidf_hyp_c_10 = make_pipeline(TfidfVectorizer( stop_words='english'), LogisticRegression(max_iter=2000, random_state=123, C=10))"
   ]
  },
  {
   "cell_type": "code",
   "execution_count": 75,
   "metadata": {},
   "outputs": [
    {
     "data": {
      "text/plain": [
       "Pipeline(steps=[('tfidfvectorizer', TfidfVectorizer(stop_words='english')),\n",
       "                ('logisticregression',\n",
       "                 LogisticRegression(C=10, max_iter=2000, random_state=123))])"
      ]
     },
     "execution_count": 75,
     "metadata": {},
     "output_type": "execute_result"
    }
   ],
   "source": [
    "pipe_lr_tfidf_hyp_c_10.fit(X_train['diagnosisone'], y_train)"
   ]
  },
  {
   "cell_type": "code",
   "execution_count": 76,
   "metadata": {},
   "outputs": [],
   "source": [
    "predictions = pipe_lr_tfidf_hyp_c_10.predict(test_df['DiagnosisOne'])"
   ]
  },
  {
   "cell_type": "code",
   "execution_count": 77,
   "metadata": {},
   "outputs": [
    {
     "data": {
      "text/plain": [
       "array(['NO COND', 'NO COND', 'NO COND', 'MASS(ES)', 'NO COND',\n",
       "       'ALLERGY (ALLERGIC)', 'NO COND', 'NO COND', 'OTITIS EXTERNA',\n",
       "       'NO COND'], dtype=object)"
      ]
     },
     "execution_count": 77,
     "metadata": {},
     "output_type": "execute_result"
    }
   ],
   "source": [
    "predictions[:10]"
   ]
  },
  {
   "cell_type": "code",
   "execution_count": 78,
   "metadata": {},
   "outputs": [],
   "source": [
    "prediction_df = pd.DataFrame(predictions, columns = ['pred'])\n",
    "prediction_df.to_csv('condition_prediction.csv')"
   ]
  },
  {
   "cell_type": "markdown",
   "metadata": {},
   "source": [
    "### Next steps to improve the results:\n",
    "- Adding the `itemdescription` feature; \n",
    "- Using Averaging or Stacking to get the best of all models together;"
   ]
  },
  {
   "cell_type": "code",
   "execution_count": null,
   "metadata": {},
   "outputs": [],
   "source": []
  }
 ],
 "metadata": {
  "kernelspec": {
   "display_name": "Python 3",
   "language": "python",
   "name": "python3"
  },
  "language_info": {
   "codemirror_mode": {
    "name": "ipython",
    "version": 3
   },
   "file_extension": ".py",
   "mimetype": "text/x-python",
   "name": "python",
   "nbconvert_exporter": "python",
   "pygments_lexer": "ipython3",
   "version": "3.8.3"
  }
 },
 "nbformat": 4,
 "nbformat_minor": 4
}
